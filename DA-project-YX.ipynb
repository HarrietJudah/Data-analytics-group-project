{
 "cells": [
  {
   "cell_type": "code",
   "execution_count": 1,
   "metadata": {},
   "outputs": [],
   "source": [
    "from matplotlib import pyplot as plt\n",
    "import numpy as np\n",
    "import pandas as pd\n",
    "import sklearn\n",
    "from sklearn.ensemble import RandomForestClassifier, VotingClassifier, BaggingClassifier, ExtraTreesClassifier\n",
    "from sklearn.ensemble import RandomForestRegressor\n",
    "from sklearn.ensemble import BaggingRegressor\n",
    "from sklearn.metrics import accuracy_score\n",
    "from sklearn.metrics import mean_squared_error,mean_absolute_error\n",
    "from rdkit.Chem import AllChem, Descriptors, MolFromSmiles\n",
    "from sklearn.model_selection import train_test_split\n",
    "from sklearn.metrics import r2_score, mean_squared_error, mean_absolute_error\n",
    "from sklearn.model_selection import KFold, StratifiedKFold, StratifiedShuffleSplit, RepeatedKFold\n",
    "from sklearn.model_selection import cross_val_score\n",
    "from sklearn.preprocessing import StandardScaler\n",
    "from sklearn.decomposition import PCA\n",
    "import tensorflow as tf"
   ]
  },
  {
   "cell_type": "code",
   "execution_count": 2,
   "metadata": {},
   "outputs": [],
   "source": [
    "photoswitches = pd.read_csv('./photoswitches.csv')\n",
    "smiles_list = photoswitches['SMILES'].to_list()"
   ]
  },
  {
   "cell_type": "code",
   "execution_count": 3,
   "metadata": {},
   "outputs": [
    {
     "data": {
      "text/plain": [
       "rate of thermal isomerisation from Z-E in s-1             330\n",
       "Solvent used for thermal isomerisation rates              353\n",
       "Z PhotoStationaryState                                    329\n",
       "E PhotoStationaryState                                    331\n",
       "E isomer pi-pi* wavelength in nm                           13\n",
       "Extinction                                                372\n",
       "E isomer n-pi* wavelength in nm                           264\n",
       "Extinction coefficient in M-1 cm-1                        379\n",
       "Z isomer pi-pi* wavelength in nm                          312\n",
       "Extinction.1                                              393\n",
       "Z isomer n-pi* wavelength in nm                           282\n",
       "Extinction coefficient in M-1 cm-1.1                      382\n",
       "Wiberg index                                              390\n",
       "E-Z irradiation wavelength in nm                          341\n",
       "Z-E irradiation wavelength                                341\n",
       "Irradiation solvent                                       184\n",
       "PBE0 DFT E isomer pi-pi* wavelength in nm                 291\n",
       "PBE0 DFT E isomer n-pi* wavelength in nm                  355\n",
       "PBE0 DFT Z isomer pi-pi* wavelength in nm                 390\n",
       "PBE0 DFT Z isomer n-pi* wavelength in nm                  386\n",
       "TPSSh/6-31G** DFT E isomer pi-pi* wavelength in nm        397\n",
       "TPSSh/6-31G** DFT E isomer n-pi* wavelength in nm         401\n",
       "TPSSh/6-31G** DFT Z isomer pi-pi* wavelength in nm        401\n",
       "TPSSh/6-31G** DFT Z isomer n-pi* wavelength in nm         401\n",
       "CAM-B3LYP/6-31G** DFT E isomer pi-pi* wavelength in nm    288\n",
       "CAM-B3LYP/6-31G** DFT E isomer n-pi* wavelength in nm     353\n",
       "CAM-B3LYP/6-31G** DFT Z isomer pi-pi* wavelength in nm    383\n",
       "CAM-B3LYP/6-31G** DFT Z isomer n-pi* wavelength in nm     383\n",
       "BHLYP/6-31G* DFT E isomer pi-pi* wavelength in nm         404\n",
       "BHLYP/6-31G* DFT E isomer n-pi* wavelength in nm          405\n",
       "BHLYP/6-31G* Z isomer pi-pi* wavelength in nm             404\n",
       "BHLYP/6-31G* DFT Z isomer n-pi* wavelength in nm          405\n",
       "dtype: int64"
      ]
     },
     "execution_count": 3,
     "metadata": {},
     "output_type": "execute_result"
    }
   ],
   "source": [
    "null_columns = photoswitches.columns[photoswitches.isnull().any()]\n",
    "photoswitches[null_columns].isnull().sum() #two columns completely empty can be removed in raw dataset"
   ]
  },
  {
   "cell_type": "code",
   "execution_count": 4,
   "metadata": {},
   "outputs": [],
   "source": [
    "photoswitches.rename({\"Unnamed: 0\":\"a\"}, axis=\"columns\", inplace=True)\n",
    "dropped_data = photoswitches.drop(columns = ['a','BHLYP/6-31G* DFT E isomer pi-pi* wavelength in nm','BHLYP/6-31G* DFT E isomer n-pi* wavelength in nm','BHLYP/6-31G* Z isomer pi-pi* wavelength in nm','BHLYP/6-31G* DFT Z isomer n-pi* wavelength in nm'])\n",
    "\n",
    "dropped_data.to_csv ('rawdata_new.csv', index = False)"
   ]
  },
  {
   "cell_type": "code",
   "execution_count": 5,
   "metadata": {},
   "outputs": [],
   "source": [
    "# split train & predict not in here!!!!\n",
    "df_new = pd.read_csv('rawdata_new.csv')\n",
    "df_test = df_new[df_new['E isomer pi-pi* wavelength in nm'].isnull()]\n",
    "df_train = df_new[df_new['E isomer pi-pi* wavelength in nm'].notnull()]"
   ]
  },
  {
   "cell_type": "code",
   "execution_count": 6,
   "metadata": {},
   "outputs": [],
   "source": [
    "#smiles_list = photoswitches['SMILES'].to_list()\n",
    "morganfingerprints = pd.read_csv('./morgan_fingerprints.csv')"
   ]
  },
  {
   "cell_type": "code",
   "execution_count": 7,
   "metadata": {},
   "outputs": [
    {
     "data": {
      "text/plain": [
       "array([0.03237782, 0.0251728 ])"
      ]
     },
     "execution_count": 7,
     "metadata": {},
     "output_type": "execute_result"
    }
   ],
   "source": [
    "morganfingerprints_num = morganfingerprints.drop(morganfingerprints.columns[[0, 1]], axis = 1)\n",
    "X = morganfingerprints_num\n",
    "scaler = StandardScaler()\n",
    "X_scaled = scaler.fit_transform(X)\n",
    "pca = PCA(n_components=2)\n",
    "reduced_morgfingerprint = pca.fit_transform(X_scaled)\n",
    "pca.explained_variance_ratio_"
   ]
  },
  {
   "cell_type": "code",
   "execution_count": 8,
   "metadata": {},
   "outputs": [],
   "source": [
    "df_reduced = pd.DataFrame(reduced_morgfingerprint)"
   ]
  },
  {
   "cell_type": "code",
   "execution_count": 9,
   "metadata": {},
   "outputs": [],
   "source": [
    "df_joined = pd.merge(df_new, df_reduced, left_index=True, right_index=True)"
   ]
  },
  {
   "cell_type": "code",
   "execution_count": 10,
   "metadata": {},
   "outputs": [],
   "source": [
    "df_test = df_joined[df_joined['E isomer pi-pi* wavelength in nm'].isnull()]\n",
    "df_train = df_joined[df_joined['E isomer pi-pi* wavelength in nm'].notnull()]"
   ]
  },
  {
   "cell_type": "code",
   "execution_count": 11,
   "metadata": {},
   "outputs": [],
   "source": [
    "X_hasvalue = df_train[[0, 1]]\n",
    "y_hasvalue = df_train['E isomer pi-pi* wavelength in nm']"
   ]
  },
  {
   "cell_type": "code",
   "execution_count": 12,
   "metadata": {},
   "outputs": [],
   "source": [
    "X_test = df_test[[0, 1]]\n",
    "y_test= df_test['E isomer pi-pi* wavelength in nm']"
   ]
  },
  {
   "cell_type": "code",
   "execution_count": 16,
   "metadata": {},
   "outputs": [
    {
     "name": "stdout",
     "output_type": "stream",
     "text": [
      "27.919884548104953\n",
      "[358.41258333 334.12908333 349.09791667 340.98516667 343.27416667\n",
      " 332.23708333 334.37208333 342.44466667 338.79458333 364.83958333\n",
      " 362.60558333 348.33858333 327.285     ]\n"
     ]
    }
   ],
   "source": [
    "X_train, X_validation, y_train, y_validation = train_test_split(X_hasvalue,y_hasvalue,random_state = 10)\n",
    "random_forest = RandomForestRegressor(n_estimators=1000,oob_score = True, max_features = \"auto\")\n",
    "random_forest.fit(X_train, y_train) \n",
    "y_pred = random_forest.predict(X_validation)\n",
    "print(mean_absolute_error(y_validation, y_pred))\n",
    "y_final_pred = random_forest.predict(X_test)\n",
    "print(y_final_pred)\n",
    "#print(accuracy_score(y_test, y_final_pred))"
   ]
  },
  {
   "cell_type": "code",
   "execution_count": 32,
   "metadata": {},
   "outputs": [
    {
     "name": "stdout",
     "output_type": "stream",
     "text": [
      "[0.63755719 0.66910561 0.60900401 0.51017036 0.43791576 0.47456773\n",
      " 0.6107214  0.74543052 0.34060769 0.62837697]\n",
      "0.5663457226458555\n"
     ]
    }
   ],
   "source": [
    "kf = KFold(n_splits=10, shuffle=True, random_state=10)\n",
    "kf.get_n_splits(X_hasvalue)\n",
    "for train_index, test_index in kf.split(X_hasvalue):\n",
    "    X_train, X_test = X_hasvalue.iloc[train_index], X_hasvalue.iloc[test_index]\n",
    "    y_train, y_test = y_hasvalue.iloc[train_index], y_hasvalue.iloc[test_index]\n",
    "    rf = RandomForestRegressor(n_estimators=1000)\n",
    "    rf.fit(X_train, y_train)\n",
    "score = cross_val_score(rf, X_hasvalue, y_hasvalue, cv = kf)\n",
    "print(score)\n",
    "print(score.mean())"
   ]
  },
  {
   "cell_type": "code",
   "execution_count": 15,
   "metadata": {},
   "outputs": [
    {
     "name": "stdout",
     "output_type": "stream",
     "text": [
      "27.960121612636232\n",
      "[348.43839744 337.71373005 348.11753548 341.07085983 339.91641296\n",
      " 339.28467096 337.2312291  343.39141197 341.46087675 357.11908332\n",
      " 354.6759703  345.81671115 328.79505   ]\n"
     ]
    }
   ],
   "source": [
    "X_train, X_validation, y_train, y_validation = train_test_split(X_hasvalue,y_hasvalue,random_state = 10)\n",
    "bg = BaggingRegressor(base_estimator= RandomForestRegressor(), n_estimators=1000,random_state=0)\n",
    "bg.fit(X_train, y_train)\n",
    "y_pred = bg.predict(X_validation)\n",
    "print(mean_absolute_error(y_validation, y_pred))\n",
    "y_final_pred = bg.predict(X_test)\n",
    "print(y_final_pred)"
   ]
  },
  {
   "cell_type": "code",
   "execution_count": 15,
   "metadata": {},
   "outputs": [
    {
     "data": {
      "image/png": "[encoded data removed]",
      "text/plain": [
       "<Figure size 432x288 with 1 Axes>"
      ]
     },
     "metadata": {
      "needs_background": "light"
     },
     "output_type": "display_data"
    }
   ],
   "source": [
    "plt.scatter(reduced_morgfingerprint[:, 0], reduced_morgfingerprint[:, 1])\n",
    "plt.xlabel(\"$x_1$\", fontsize=14)\n",
    "plt.ylabel(\"$x_2$\", fontsize=14, rotation=0)\n",
    "plt.show()"
   ]
  },
  {
   "cell_type": "code",
   "execution_count": 32,
   "metadata": {},
   "outputs": [
    {
     "data": {
      "text/plain": [
       "array([0.29043388, 0.11875416])"
      ]
     },
     "execution_count": 32,
     "metadata": {},
     "output_type": "execute_result"
    }
   ],
   "source": [
    "mordred = pd.read_csv('./mordred_descriptors.csv')\n",
    "mordred_num = mordred.drop(mordred.columns[[0, 1]], axis = 1)\n",
    "X_1 = mordred_num\n",
    "scaler = StandardScaler()\n",
    "X1_scaled = scaler.fit_transform(X_1)\n",
    "pca = PCA(n_components=2)\n",
    "reduced_mordred = pca.fit_transform(X1_scaled)\n",
    "pca.explained_variance_ratio_"
   ]
  },
  {
   "cell_type": "code",
   "execution_count": 33,
   "metadata": {},
   "outputs": [
    {
     "data": {
      "image/png": "[encoded data removed]",
      "text/plain": [
       "<Figure size 432x288 with 1 Axes>"
      ]
     },
     "metadata": {
      "needs_background": "light"
     },
     "output_type": "display_data"
    }
   ],
   "source": [
    "plt.scatter(reduced_mordred[:, 0], reduced_mordred[:, 1])\n",
    "plt.xlabel(\"$x_1$\", fontsize=14)\n",
    "plt.ylabel(\"$x_2$\", fontsize=14, rotation=0)\n",
    "plt.show()"
   ]
  },
  {
   "cell_type": "code",
   "execution_count": 34,
   "metadata": {},
   "outputs": [],
   "source": [
    "df_reduced_mordred = pd.DataFrame(reduced_mordred)\n",
    "df_joined_mordred = pd.merge(df_new, df_reduced_mordred, left_index=True, right_index=True)\n",
    "df_test_mordred = df_joined_mordred[df_joined_mordred['E isomer pi-pi* wavelength in nm'].isnull()]\n",
    "df_train_mordred = df_joined_mordred[df_joined_mordred['E isomer pi-pi* wavelength in nm'].notnull()]"
   ]
  },
  {
   "cell_type": "code",
   "execution_count": 35,
   "metadata": {},
   "outputs": [
    {
     "name": "stdout",
     "output_type": "stream",
     "text": [
      "31.577568950437318\n",
      "[368.036 392.59  390.29  414.856 453.954 464.736 457.544 407.964 414.314\n",
      " 409.76  419.648 376.196 365.414]\n"
     ]
    }
   ],
   "source": [
    "X_hasvalue = df_train_mordred[[0, 1]]\n",
    "y_hasvalue = df_train_mordred['E isomer pi-pi* wavelength in nm']\n",
    "X_test = df_test_mordred[[0, 1]]\n",
    "y_test= df_test_mordred['E isomer pi-pi* wavelength in nm']\n",
    "X_train, X_validation, y_train, y_validation = train_test_split(X_hasvalue,y_hasvalue)\n",
    "random_forest = RandomForestRegressor(n_estimators=500)\n",
    "random_forest.fit(X_train, y_train) \n",
    "y_pred = random_forest.predict(X_validation)\n",
    "print(mean_absolute_error(y_validation, y_pred))\n",
    "y_final_pred = random_forest.predict(X_test)\n",
    "print(y_final_pred)"
   ]
  },
  {
   "cell_type": "code",
   "execution_count": 36,
   "metadata": {},
   "outputs": [],
   "source": [
    "raw_data = dropped_data.fillna(0)\n",
    "photoswitches = pd.read_csv('./rawdata.csv')"
   ]
  },
  {
   "cell_type": "code",
   "execution_count": null,
   "metadata": {},
   "outputs": [],
   "source": [
    "kf = KFold(n_splits=10, shuffle=True, random_state=None)\n",
    "kf.get_n_splits(X_hasvalue)\n",
    "for train_index, test_index in kf.split(X_hasvalue):\n",
    "    X_train, X_test = X_hasvalue.iloc[train_index], X_hasvalue.iloc[test_index]\n",
    "    y_train, y_test = y_hasvalue.iloc[train_index], y_hasvalue.iloc[test_index]\n",
    "    rf = RandomForestRegressor(n_estimators=1000)\n",
    "    rf.fit(X_train, y_train)\n",
    "score = cross_val_score(rf, X_hasvalue, y_hasvalue, cv = kf)\n",
    "print(score)\n",
    "print(score.mean())"
   ]
  },
  {
   "cell_type": "code",
   "execution_count": 18,
   "metadata": {},
   "outputs": [
    {
     "data": {
      "text/html": [
       "<div>\n",
       "<style scoped>\n",
       "    .dataframe tbody tr th:only-of-type {\n",
       "        vertical-align: middle;\n",
       "    }\n",
       "\n",
       "    .dataframe tbody tr th {\n",
       "        vertical-align: top;\n",
       "    }\n",
       "\n",
       "    .dataframe thead th {\n",
       "        text-align: right;\n",
       "    }\n",
       "</style>\n",
       "<table border=\"1\" class=\"dataframe\">\n",
       "  <thead>\n",
       "    <tr style=\"text-align: right;\">\n",
       "      <th></th>\n",
       "      <th>Unnamed: 0</th>\n",
       "      <th>SMILES</th>\n",
       "      <th>PC1</th>\n",
       "      <th>PC2</th>\n",
       "      <th>PC3</th>\n",
       "      <th>PC4</th>\n",
       "      <th>PC5</th>\n",
       "      <th>PC6</th>\n",
       "      <th>PC1_normalized</th>\n",
       "      <th>PC2_normalized</th>\n",
       "      <th>Cluster_PC1_PC2</th>\n",
       "      <th>cluster</th>\n",
       "    </tr>\n",
       "  </thead>\n",
       "  <tbody>\n",
       "    <tr>\n",
       "      <th>0</th>\n",
       "      <td>0</td>\n",
       "      <td>C[N]1N=NC(=N1)N=NC2=CC=CC=C2</td>\n",
       "      <td>-1.292014</td>\n",
       "      <td>-2.453941</td>\n",
       "      <td>-2.505376</td>\n",
       "      <td>0.477925</td>\n",
       "      <td>0.832529</td>\n",
       "      <td>0.072638</td>\n",
       "      <td>-0.114812</td>\n",
       "      <td>-0.236015</td>\n",
       "      <td>0</td>\n",
       "      <td>0</td>\n",
       "    </tr>\n",
       "    <tr>\n",
       "      <th>1</th>\n",
       "      <td>1</td>\n",
       "      <td>C[N]1C=NC(=N1)N=NC2=CC=CC=C2</td>\n",
       "      <td>-1.715138</td>\n",
       "      <td>-1.777637</td>\n",
       "      <td>-1.944894</td>\n",
       "      <td>0.246319</td>\n",
       "      <td>0.623260</td>\n",
       "      <td>0.037738</td>\n",
       "      <td>-0.152413</td>\n",
       "      <td>-0.170970</td>\n",
       "      <td>0</td>\n",
       "      <td>0</td>\n",
       "    </tr>\n",
       "    <tr>\n",
       "      <th>2</th>\n",
       "      <td>2</td>\n",
       "      <td>C[N]1C=CC(=N1)N=NC2=CC=CC=C2</td>\n",
       "      <td>-2.138263</td>\n",
       "      <td>-1.101332</td>\n",
       "      <td>-1.384413</td>\n",
       "      <td>0.014713</td>\n",
       "      <td>0.413991</td>\n",
       "      <td>0.002839</td>\n",
       "      <td>-0.190013</td>\n",
       "      <td>-0.105924</td>\n",
       "      <td>0</td>\n",
       "      <td>0</td>\n",
       "    </tr>\n",
       "    <tr>\n",
       "      <th>3</th>\n",
       "      <td>3</td>\n",
       "      <td>C[N]1C=C(C)C(=N1)N=NC2=CC=CC=C2</td>\n",
       "      <td>-1.980135</td>\n",
       "      <td>-0.787001</td>\n",
       "      <td>-1.182908</td>\n",
       "      <td>0.101213</td>\n",
       "      <td>0.370877</td>\n",
       "      <td>-0.003917</td>\n",
       "      <td>-0.175961</td>\n",
       "      <td>-0.075692</td>\n",
       "      <td>0</td>\n",
       "      <td>0</td>\n",
       "    </tr>\n",
       "    <tr>\n",
       "      <th>4</th>\n",
       "      <td>4</td>\n",
       "      <td>C[N]1C=C(C=N1)N=NC2=CC=CC=C2</td>\n",
       "      <td>-2.138263</td>\n",
       "      <td>-1.101332</td>\n",
       "      <td>-1.384413</td>\n",
       "      <td>0.014713</td>\n",
       "      <td>0.413991</td>\n",
       "      <td>0.002839</td>\n",
       "      <td>-0.190013</td>\n",
       "      <td>-0.105924</td>\n",
       "      <td>0</td>\n",
       "      <td>0</td>\n",
       "    </tr>\n",
       "    <tr>\n",
       "      <th>...</th>\n",
       "      <td>...</td>\n",
       "      <td>...</td>\n",
       "      <td>...</td>\n",
       "      <td>...</td>\n",
       "      <td>...</td>\n",
       "      <td>...</td>\n",
       "      <td>...</td>\n",
       "      <td>...</td>\n",
       "      <td>...</td>\n",
       "      <td>...</td>\n",
       "      <td>...</td>\n",
       "      <td>...</td>\n",
       "    </tr>\n",
       "    <tr>\n",
       "      <th>400</th>\n",
       "      <td>400</td>\n",
       "      <td>OC%38=C%39N=CC=CC%39=C(/N=N/C%40=NC%41=CC(C)=C...</td>\n",
       "      <td>0.767653</td>\n",
       "      <td>0.595753</td>\n",
       "      <td>1.036594</td>\n",
       "      <td>1.420533</td>\n",
       "      <td>0.004913</td>\n",
       "      <td>-0.525633</td>\n",
       "      <td>0.068216</td>\n",
       "      <td>0.057298</td>\n",
       "      <td>1</td>\n",
       "      <td>1</td>\n",
       "    </tr>\n",
       "    <tr>\n",
       "      <th>401</th>\n",
       "      <td>401</td>\n",
       "      <td>OC%42=C%43N=CC=CC%43=C(/N=N/C%44=NC%45=CC=CC=C...</td>\n",
       "      <td>0.388108</td>\n",
       "      <td>-1.573992</td>\n",
       "      <td>1.441147</td>\n",
       "      <td>0.877241</td>\n",
       "      <td>-0.073470</td>\n",
       "      <td>-0.041322</td>\n",
       "      <td>0.034489</td>\n",
       "      <td>-0.151383</td>\n",
       "      <td>0</td>\n",
       "      <td>0</td>\n",
       "    </tr>\n",
       "    <tr>\n",
       "      <th>402</th>\n",
       "      <td>402</td>\n",
       "      <td>N#CC1C(SC(/N=N/C2=NC(C=CC([N+]([O-])=O)=C3)=C3...</td>\n",
       "      <td>3.656931</td>\n",
       "      <td>-0.200196</td>\n",
       "      <td>-0.014167</td>\n",
       "      <td>1.810666</td>\n",
       "      <td>0.157798</td>\n",
       "      <td>-0.054414</td>\n",
       "      <td>0.324967</td>\n",
       "      <td>-0.019254</td>\n",
       "      <td>1</td>\n",
       "      <td>1</td>\n",
       "    </tr>\n",
       "    <tr>\n",
       "      <th>403</th>\n",
       "      <td>403</td>\n",
       "      <td>N#Cc5c(c6ccc(Cl)cc6)c(/N=N/C7=NC(C=CC([N+]([O-...</td>\n",
       "      <td>4.095983</td>\n",
       "      <td>1.083660</td>\n",
       "      <td>0.788775</td>\n",
       "      <td>2.125700</td>\n",
       "      <td>-0.424692</td>\n",
       "      <td>-0.415486</td>\n",
       "      <td>0.363982</td>\n",
       "      <td>0.104224</td>\n",
       "      <td>1</td>\n",
       "      <td>1</td>\n",
       "    </tr>\n",
       "    <tr>\n",
       "      <th>404</th>\n",
       "      <td>404</td>\n",
       "      <td>N#CC9C(SC(/N=N/C%10=NC(C=CC([N+]([O-])=O)=C%11...</td>\n",
       "      <td>4.508291</td>\n",
       "      <td>-0.465737</td>\n",
       "      <td>-0.412445</td>\n",
       "      <td>1.677549</td>\n",
       "      <td>0.541626</td>\n",
       "      <td>0.012693</td>\n",
       "      <td>0.400621</td>\n",
       "      <td>-0.044794</td>\n",
       "      <td>1</td>\n",
       "      <td>1</td>\n",
       "    </tr>\n",
       "  </tbody>\n",
       "</table>\n",
       "<p>405 rows × 12 columns</p>\n",
       "</div>"
      ],
      "text/plain": [
       "     Unnamed: 0                                             SMILES       PC1  \\\n",
       "0             0                       C[N]1N=NC(=N1)N=NC2=CC=CC=C2 -1.292014   \n",
       "1             1                       C[N]1C=NC(=N1)N=NC2=CC=CC=C2 -1.715138   \n",
       "2             2                       C[N]1C=CC(=N1)N=NC2=CC=CC=C2 -2.138263   \n",
       "3             3                    C[N]1C=C(C)C(=N1)N=NC2=CC=CC=C2 -1.980135   \n",
       "4             4                       C[N]1C=C(C=N1)N=NC2=CC=CC=C2 -2.138263   \n",
       "..          ...                                                ...       ...   \n",
       "400         400  OC%38=C%39N=CC=CC%39=C(/N=N/C%40=NC%41=CC(C)=C...  0.767653   \n",
       "401         401  OC%42=C%43N=CC=CC%43=C(/N=N/C%44=NC%45=CC=CC=C...  0.388108   \n",
       "402         402  N#CC1C(SC(/N=N/C2=NC(C=CC([N+]([O-])=O)=C3)=C3...  3.656931   \n",
       "403         403  N#Cc5c(c6ccc(Cl)cc6)c(/N=N/C7=NC(C=CC([N+]([O-...  4.095983   \n",
       "404         404  N#CC9C(SC(/N=N/C%10=NC(C=CC([N+]([O-])=O)=C%11...  4.508291   \n",
       "\n",
       "          PC2       PC3       PC4       PC5       PC6  PC1_normalized  \\\n",
       "0   -2.453941 -2.505376  0.477925  0.832529  0.072638       -0.114812   \n",
       "1   -1.777637 -1.944894  0.246319  0.623260  0.037738       -0.152413   \n",
       "2   -1.101332 -1.384413  0.014713  0.413991  0.002839       -0.190013   \n",
       "3   -0.787001 -1.182908  0.101213  0.370877 -0.003917       -0.175961   \n",
       "4   -1.101332 -1.384413  0.014713  0.413991  0.002839       -0.190013   \n",
       "..        ...       ...       ...       ...       ...             ...   \n",
       "400  0.595753  1.036594  1.420533  0.004913 -0.525633        0.068216   \n",
       "401 -1.573992  1.441147  0.877241 -0.073470 -0.041322        0.034489   \n",
       "402 -0.200196 -0.014167  1.810666  0.157798 -0.054414        0.324967   \n",
       "403  1.083660  0.788775  2.125700 -0.424692 -0.415486        0.363982   \n",
       "404 -0.465737 -0.412445  1.677549  0.541626  0.012693        0.400621   \n",
       "\n",
       "     PC2_normalized  Cluster_PC1_PC2  cluster  \n",
       "0         -0.236015                0        0  \n",
       "1         -0.170970                0        0  \n",
       "2         -0.105924                0        0  \n",
       "3         -0.075692                0        0  \n",
       "4         -0.105924                0        0  \n",
       "..              ...              ...      ...  \n",
       "400        0.057298                1        1  \n",
       "401       -0.151383                0        0  \n",
       "402       -0.019254                1        1  \n",
       "403        0.104224                1        1  \n",
       "404       -0.044794                1        1  \n",
       "\n",
       "[405 rows x 12 columns]"
      ]
     },
     "execution_count": 18,
     "metadata": {},
     "output_type": "execute_result"
    }
   ],
   "source": [
    "#read the clustering csv file\n",
    "df_kmeans = pd.read_csv('kmeans.csv')\n",
    "df_kmeans"
   ]
  },
  {
   "cell_type": "code",
   "execution_count": 19,
   "metadata": {},
   "outputs": [],
   "source": [
    "#spliting the dataset with clustering\n",
    "clusters = df_kmeans['cluster']\n",
    "kp = pd.merge(df_joined, clusters, left_index=True, right_index=True)\n",
    "#kp\n",
    "kp_zero = kp[kp['cluster'] == 0] \n",
    "kp_one = kp[kp['cluster'] == 1] "
   ]
  },
  {
   "cell_type": "code",
   "execution_count": 20,
   "metadata": {},
   "outputs": [
    {
     "name": "stdout",
     "output_type": "stream",
     "text": [
      "26.097483050847462\n",
      "[328.613 329.254 329.905 335.321 357.401 339.562 329.146 331.219 333.928]\n"
     ]
    }
   ],
   "source": [
    "#train on cluster number 0\n",
    "df_test_zero = kp_zero[kp_zero['E isomer pi-pi* wavelength in nm'].isnull()]\n",
    "df_train_zero = kp_zero[kp_zero['E isomer pi-pi* wavelength in nm'].notnull()]\n",
    "kp_zero['E isomer pi-pi* wavelength in nm'].isnull().sum()\n",
    "X_hasvalue = df_train_zero[[0, 1]]\n",
    "y_hasvalue = df_train_zero['E isomer pi-pi* wavelength in nm']\n",
    "X_test = df_test_zero[[0, 1]]\n",
    "y_test= df_test_zero['E isomer pi-pi* wavelength in nm']\n",
    "X_train, X_validation, y_train, y_validation = train_test_split(X_hasvalue,y_hasvalue)\n",
    "random_forest = RandomForestRegressor(n_estimators=1000)\n",
    "random_forest.fit(X_train, y_train) \n",
    "y_pred = random_forest.predict(X_validation)\n",
    "print(mean_absolute_error(y_validation, y_pred))\n",
    "y_final_pred = random_forest.predict(X_test)\n",
    "print(y_final_pred)"
   ]
  },
  {
   "cell_type": "code",
   "execution_count": 55,
   "metadata": {},
   "outputs": [
    {
     "name": "stdout",
     "output_type": "stream",
     "text": [
      "37.164625476190466\n",
      "[380.124 380.988 379.113 380.472]\n"
     ]
    }
   ],
   "source": [
    "#train on cluster number 1\n",
    "df_test_one = kp_one[kp_one['E isomer pi-pi* wavelength in nm'].isnull()]\n",
    "df_train_one = kp_one[kp_one['E isomer pi-pi* wavelength in nm'].notnull()]\n",
    "X_hasvalue = df_train_one[[0, 1]]\n",
    "y_hasvalue = df_train_one['E isomer pi-pi* wavelength in nm']\n",
    "X_test = df_test_one[[0, 1]]\n",
    "y_test= df_test_one['E isomer pi-pi* wavelength in nm']\n",
    "X_train, X_validation, y_train, y_validation = train_test_split(X_hasvalue,y_hasvalue)\n",
    "random_forest = RandomForestRegressor(n_estimators=1000)\n",
    "random_forest.fit(X_train, y_train) \n",
    "y_pred = random_forest.predict(X_validation)\n",
    "print(mean_absolute_error(y_validation, y_pred))\n",
    "y_final_pred = random_forest.predict(X_test)\n",
    "print(y_final_pred)"
   ]
  },
  {
   "cell_type": "code",
   "execution_count": 57,
   "metadata": {},
   "outputs": [
    {
     "name": "stdout",
     "output_type": "stream",
     "text": [
      "42.67561416461552\n",
      "[357.97023626 357.97023626 357.97023626 357.97023626 357.97023626\n",
      " 434.84412408 434.84412408 357.97023626 357.97023626 357.97023626\n",
      " 434.84412408 434.84412408 357.97023626]\n"
     ]
    }
   ],
   "source": [
    "kp_test_zero = kp[kp['E isomer pi-pi* wavelength in nm'].isnull()]\n",
    "kp_train_zero = kp[kp['E isomer pi-pi* wavelength in nm'].notnull()]\n",
    "X_hasvalue = kp_train_zero[['cluster']]\n",
    "y_hasvalue = kp_train_zero['E isomer pi-pi* wavelength in nm']\n",
    "X_test = kp_test_zero[['cluster']]\n",
    "y_test= kp_test_zero['E isomer pi-pi* wavelength in nm']\n",
    "X_train, X_validation, y_train, y_validation = train_test_split(X_hasvalue,y_hasvalue)\n",
    "random_forest = RandomForestRegressor(n_estimators=1000)\n",
    "random_forest.fit(X_train, y_train) \n",
    "y_pred = random_forest.predict(X_validation)\n",
    "print(mean_absolute_error(y_validation, y_pred))\n",
    "y_final_pred = random_forest.predict(X_test)\n",
    "print(y_final_pred)"
   ]
  },
  {
   "cell_type": "code",
   "execution_count": null,
   "metadata": {},
   "outputs": [],
   "source": []
  }
 ],
 "metadata": {
  "kernelspec": {
   "display_name": "Python 3",
   "language": "python",
   "name": "python3"
  },
  "language_info": {
   "codemirror_mode": {
    "name": "ipython",
    "version": 3
   },
   "file_extension": ".py",
   "mimetype": "text/x-python",
   "name": "python",
   "nbconvert_exporter": "python",
   "pygments_lexer": "ipython3",
   "version": "3.7.7"
  }
 },
 "nbformat": 4,
 "nbformat_minor": 4
}
