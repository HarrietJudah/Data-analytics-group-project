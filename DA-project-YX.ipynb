{
 "cells": [
  {
   "cell_type": "code",
   "execution_count": 1,
   "metadata": {},
   "outputs": [],
   "source": [
    "from matplotlib import pyplot as plt\n",
    "import numpy as np\n",
    "import pandas as pd\n",
    "import sklearn\n",
    "from sklearn.ensemble import RandomForestClassifier, VotingClassifier, BaggingClassifier, ExtraTreesClassifier\n",
    "from sklearn.ensemble import RandomForestRegressor\n",
    "from sklearn.metrics import accuracy_score\n",
    "from sklearn.metrics import mean_squared_error,mean_absolute_error\n",
    "from rdkit.Chem import AllChem, Descriptors, MolFromSmiles\n",
    "from sklearn.model_selection import train_test_split\n",
    "from sklearn.metrics import r2_score, mean_squared_error, mean_absolute_error\n",
    "from sklearn.preprocessing import StandardScaler\n",
    "from sklearn.decomposition import PCA\n",
    "import tensorflow as tf"
   ]
  },
  {
   "cell_type": "code",
   "execution_count": 2,
   "metadata": {},
   "outputs": [],
   "source": [
    "photoswitches = pd.read_csv('./photoswitches.csv')\n",
    "smiles_list = photoswitches['SMILES'].to_list()"
   ]
  },
  {
   "cell_type": "code",
   "execution_count": 3,
   "metadata": {},
   "outputs": [
    {
     "data": {
      "text/plain": [
       "rate of thermal isomerisation from Z-E in s-1             330\n",
       "Solvent used for thermal isomerisation rates              353\n",
       "Z PhotoStationaryState                                    329\n",
       "E PhotoStationaryState                                    331\n",
       "E isomer pi-pi* wavelength in nm                           13\n",
       "Extinction                                                372\n",
       "E isomer n-pi* wavelength in nm                           264\n",
       "Extinction coefficient in M-1 cm-1                        379\n",
       "Z isomer pi-pi* wavelength in nm                          312\n",
       "Extinction.1                                              393\n",
       "Z isomer n-pi* wavelength in nm                           282\n",
       "Extinction coefficient in M-1 cm-1.1                      382\n",
       "Wiberg index                                              390\n",
       "E-Z irradiation wavelength in nm                          341\n",
       "Z-E irradiation wavelength                                341\n",
       "Irradiation solvent                                       184\n",
       "PBE0 DFT E isomer pi-pi* wavelength in nm                 291\n",
       "PBE0 DFT E isomer n-pi* wavelength in nm                  355\n",
       "PBE0 DFT Z isomer pi-pi* wavelength in nm                 390\n",
       "PBE0 DFT Z isomer n-pi* wavelength in nm                  386\n",
       "TPSSh/6-31G** DFT E isomer pi-pi* wavelength in nm        397\n",
       "TPSSh/6-31G** DFT E isomer n-pi* wavelength in nm         401\n",
       "TPSSh/6-31G** DFT Z isomer pi-pi* wavelength in nm        401\n",
       "TPSSh/6-31G** DFT Z isomer n-pi* wavelength in nm         401\n",
       "CAM-B3LYP/6-31G** DFT E isomer pi-pi* wavelength in nm    288\n",
       "CAM-B3LYP/6-31G** DFT E isomer n-pi* wavelength in nm     353\n",
       "CAM-B3LYP/6-31G** DFT Z isomer pi-pi* wavelength in nm    383\n",
       "CAM-B3LYP/6-31G** DFT Z isomer n-pi* wavelength in nm     383\n",
       "BHLYP/6-31G* DFT E isomer pi-pi* wavelength in nm         404\n",
       "BHLYP/6-31G* DFT E isomer n-pi* wavelength in nm          405\n",
       "BHLYP/6-31G* Z isomer pi-pi* wavelength in nm             404\n",
       "BHLYP/6-31G* DFT Z isomer n-pi* wavelength in nm          405\n",
       "dtype: int64"
      ]
     },
     "execution_count": 3,
     "metadata": {},
     "output_type": "execute_result"
    }
   ],
   "source": [
    "null_columns = photoswitches.columns[photoswitches.isnull().any()]\n",
    "photoswitches[null_columns].isnull().sum() #two columns completely empty can be removed in raw dataset"
   ]
  },
  {
   "cell_type": "code",
   "execution_count": 4,
   "metadata": {},
   "outputs": [],
   "source": [
    "photoswitches.rename({\"Unnamed: 0\":\"a\"}, axis=\"columns\", inplace=True)\n",
    "dropped_data = photoswitches.drop(columns = ['a','BHLYP/6-31G* DFT E isomer pi-pi* wavelength in nm','BHLYP/6-31G* DFT E isomer n-pi* wavelength in nm','BHLYP/6-31G* Z isomer pi-pi* wavelength in nm','BHLYP/6-31G* DFT Z isomer n-pi* wavelength in nm'])\n",
    "#raw_data = dropped_data.fillna(0)\n",
    "dropped_data.to_csv ('rawdata_new.csv', index = False)"
   ]
  },
  {
   "cell_type": "code",
   "execution_count": 5,
   "metadata": {},
   "outputs": [],
   "source": [
    "# split train & predict not in here!!!!\n",
    "df_new = pd.read_csv('rawdata_new.csv')\n",
    "df_test = df_new[df_new['E isomer pi-pi* wavelength in nm'].isnull()]\n",
    "df_train = df_new[df_new['E isomer pi-pi* wavelength in nm'].notnull()]"
   ]
  },
  {
   "cell_type": "code",
   "execution_count": 6,
   "metadata": {},
   "outputs": [],
   "source": [
    "#smiles_list = photoswitches['SMILES'].to_list()\n",
    "morganfingerprints = pd.read_csv('./morgan_fingerprints.csv')"
   ]
  },
  {
   "cell_type": "code",
   "execution_count": 7,
   "metadata": {},
   "outputs": [
    {
     "data": {
      "text/plain": [
       "array([0.03237783, 0.02517325])"
      ]
     },
     "execution_count": 7,
     "metadata": {},
     "output_type": "execute_result"
    }
   ],
   "source": [
    "morganfingerprints_num = morganfingerprints.drop(morganfingerprints.columns[[0, 1]], axis = 1)\n",
    "X = morganfingerprints_num\n",
    "scaler = StandardScaler()\n",
    "X_scaled = scaler.fit_transform(X)\n",
    "pca = PCA(n_components=2)\n",
    "reduced_morgfingerprint = pca.fit_transform(X_scaled)\n",
    "pca.explained_variance_ratio_"
   ]
  },
  {
   "cell_type": "code",
   "execution_count": 8,
   "metadata": {},
   "outputs": [],
   "source": [
    "df_reduced = pd.DataFrame(reduced_morgfingerprint)"
   ]
  },
  {
   "cell_type": "code",
   "execution_count": 9,
   "metadata": {},
   "outputs": [],
   "source": [
    "df_joined = pd.merge(df_new, df_reduced, left_index=True, right_index=True)"
   ]
  },
  {
   "cell_type": "code",
   "execution_count": 10,
   "metadata": {},
   "outputs": [],
   "source": [
    "df_test = df_joined[df_joined['E isomer pi-pi* wavelength in nm'].isnull()]\n",
    "df_train = df_joined[df_joined['E isomer pi-pi* wavelength in nm'].notnull()]"
   ]
  },
  {
   "cell_type": "code",
   "execution_count": 11,
   "metadata": {},
   "outputs": [],
   "source": [
    "X_hasvalue = df_train[[0, 1]]\n",
    "y_hasvalue = df_train['E isomer pi-pi* wavelength in nm']"
   ]
  },
  {
   "cell_type": "code",
   "execution_count": 12,
   "metadata": {},
   "outputs": [],
   "source": [
    "X_test = df_test[[0, 1]]\n",
    "y_test= df_test['E isomer pi-pi* wavelength in nm']"
   ]
  },
  {
   "cell_type": "code",
   "execution_count": 13,
   "metadata": {},
   "outputs": [
    {
     "name": "stdout",
     "output_type": "stream",
     "text": [
      "34.70624256559766\n",
      "[366.55716667 358.146      365.18316667 362.79       366.558\n",
      " 358.07333333 358.21       365.62516667 365.47516667 367.61916667\n",
      " 367.25516667 365.31716667 325.53      ]\n"
     ]
    }
   ],
   "source": [
    "X_train, X_validation, y_train, y_validation = train_test_split(X_hasvalue,y_hasvalue)\n",
    "random_forest = RandomForestRegressor(n_estimators=500)\n",
    "random_forest.fit(X_train, y_train) \n",
    "y_pred = random_forest.predict(X_validation)\n",
    "print(mean_absolute_error(y_validation, y_pred))\n",
    "y_final_pred = random_forest.predict(X_test)\n",
    "print(y_final_pred)"
   ]
  },
  {
   "cell_type": "code",
   "execution_count": 14,
   "metadata": {},
   "outputs": [
    {
     "data": {
      "image/png": "[encoded data removed]",
      "text/plain": [
       "<Figure size 432x288 with 1 Axes>"
      ]
     },
     "metadata": {
      "needs_background": "light"
     },
     "output_type": "display_data"
    }
   ],
   "source": [
    "plt.scatter(reduced_morgfingerprint[:, 0], reduced_morgfingerprint[:, 1])\n",
    "plt.xlabel(\"$x_1$\", fontsize=14)\n",
    "plt.ylabel(\"$x_2$\", fontsize=14, rotation=0)\n",
    "plt.show()"
   ]
  },
  {
   "cell_type": "code",
   "execution_count": 15,
   "metadata": {},
   "outputs": [
    {
     "data": {
      "text/plain": [
       "array([0.29043388, 0.11875416])"
      ]
     },
     "execution_count": 15,
     "metadata": {},
     "output_type": "execute_result"
    }
   ],
   "source": [
    "mordred = pd.read_csv('./mordred_descriptors.csv')\n",
    "mordred_num = mordred.drop(mordred.columns[[0, 1]], axis = 1)\n",
    "X_1 = mordred_num\n",
    "scaler = StandardScaler()\n",
    "X1_scaled = scaler.fit_transform(X_1)\n",
    "pca = PCA(n_components=2)\n",
    "reduced_mordred = pca.fit_transform(X1_scaled)\n",
    "pca.explained_variance_ratio_"
   ]
  },
  {
   "cell_type": "code",
   "execution_count": 16,
   "metadata": {},
   "outputs": [
    {
     "data": {
      "image/png": "[encoded data removed]",
      "text/plain": [
       "<Figure size 432x288 with 1 Axes>"
      ]
     },
     "metadata": {
      "needs_background": "light"
     },
     "output_type": "display_data"
    }
   ],
   "source": [
    "plt.scatter(reduced_mordred[:, 0], reduced_mordred[:, 1])\n",
    "plt.xlabel(\"$x_1$\", fontsize=14)\n",
    "plt.ylabel(\"$x_2$\", fontsize=14, rotation=0)\n",
    "plt.show()"
   ]
  },
  {
   "cell_type": "code",
   "execution_count": 19,
   "metadata": {},
   "outputs": [],
   "source": [
    "df_reduced_mordred = pd.DataFrame(reduced_mordred)\n",
    "df_joined_mordred = pd.merge(df_new, df_reduced_mordred, left_index=True, right_index=True)\n",
    "df_test_mordred = df_joined_mordred[df_joined_mordred['E isomer pi-pi* wavelength in nm'].isnull()]\n",
    "df_train_mordred = df_joined_mordred[df_joined_mordred['E isomer pi-pi* wavelength in nm'].notnull()]"
   ]
  },
  {
   "cell_type": "code",
   "execution_count": 20,
   "metadata": {},
   "outputs": [
    {
     "name": "stdout",
     "output_type": "stream",
     "text": [
      "34.670485811467444\n",
      "[368.048      379.53794286 379.462      392.418      457.982\n",
      " 470.08       447.14       395.59       407.148      406.196\n",
      " 452.358      407.516      360.242     ]\n"
     ]
    }
   ],
   "source": [
    "X_hasvalue = df_train_mordred[[0, 1]]\n",
    "y_hasvalue = df_train_mordred['E isomer pi-pi* wavelength in nm']\n",
    "X_test = df_test_mordred[[0, 1]]\n",
    "y_test= df_test_mordred['E isomer pi-pi* wavelength in nm']\n",
    "X_train, X_validation, y_train, y_validation = train_test_split(X_hasvalue,y_hasvalue)\n",
    "random_forest = RandomForestRegressor(n_estimators=500)\n",
    "random_forest.fit(X_train, y_train) \n",
    "y_pred = random_forest.predict(X_validation)\n",
    "print(mean_absolute_error(y_validation, y_pred))\n",
    "y_final_pred = random_forest.predict(X_test)\n",
    "print(y_final_pred)"
   ]
  },
  {
   "cell_type": "code",
   "execution_count": 66,
   "metadata": {},
   "outputs": [],
   "source": []
  },
  {
   "cell_type": "code",
   "execution_count": null,
   "metadata": {},
   "outputs": [],
   "source": []
  },
  {
   "cell_type": "code",
   "execution_count": null,
   "metadata": {},
   "outputs": [],
   "source": []
  }
 ],
 "metadata": {
  "kernelspec": {
   "display_name": "Python 3",
   "language": "python",
   "name": "python3"
  },
  "language_info": {
   "codemirror_mode": {
    "name": "ipython",
    "version": 3
   },
   "file_extension": ".py",
   "mimetype": "text/x-python",
   "name": "python",
   "nbconvert_exporter": "python",
   "pygments_lexer": "ipython3",
   "version": "3.7.7"
  }
 },
 "nbformat": 4,
 "nbformat_minor": 4
}
